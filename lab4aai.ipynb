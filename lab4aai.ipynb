{
 "cells": [
  {
   "cell_type": "code",
   "execution_count": 1,
   "id": "a4ed65dc-50b0-4424-a29f-a5e86d7718e9",
   "metadata": {},
   "outputs": [],
   "source": [
    "import tensorflow as tf\n",
    "from tensorflow import keras\n",
    "from tensorflow.keras import layers\n",
    "import numpy as np"
   ]
  },
  {
   "cell_type": "code",
   "execution_count": 2,
   "id": "4598532b-ecce-47e4-8c85-8ed1296a3937",
   "metadata": {},
   "outputs": [],
   "source": [
    "batch_size = 32\n",
    "img_height = 160\n",
    "img_width = 160\n",
    "IMG_SIZE = (160, 160)"
   ]
  },
  {
   "cell_type": "code",
   "execution_count": 13,
   "id": "68fbc883-97e3-4026-9335-a135cdb733fc",
   "metadata": {},
   "outputs": [
    {
     "name": "stdout",
     "output_type": "stream",
     "text": [
      "Found 10000 files belonging to 2 classes.\n",
      "Using 8000 files for training.\n"
     ]
    }
   ],
   "source": [
    "dataSource = \"D:\\mc-fakes-smaller\\mc-fakes-smaller\"\n",
    "trainDs = tf.keras.preprocessing.image_dataset_from_directory(dataSource, validation_split = 0.2, subset =\"training\",\n",
    "                                                              seed = 123, image_size =IMG_SIZE, batch_size = batch_size)"
   ]
  },
  {
   "cell_type": "code",
   "execution_count": 14,
   "id": "85f8b990-977c-4a55-89fc-8504beb573ca",
   "metadata": {},
   "outputs": [
    {
     "name": "stdout",
     "output_type": "stream",
     "text": [
      "Found 10000 files belonging to 2 classes.\n",
      "Using 2000 files for validation.\n"
     ]
    }
   ],
   "source": [
    "valDs = tf.keras.preprocessing.image_dataset_from_directory(\n",
    "dataSource,\n",
    "validation_split=0.2,\n",
    "subset=\"validation\",\n",
    "seed=123,\n",
    "image_size=(img_height, img_width),\n",
    "batch_size=batch_size)"
   ]
  },
  {
   "cell_type": "code",
   "execution_count": 15,
   "id": "21151b06-3f99-4216-822e-a88465a65730",
   "metadata": {},
   "outputs": [],
   "source": [
    "testDs = valDs.take(5)\n",
    "valDss = valDs.skip(5)"
   ]
  },
  {
   "cell_type": "code",
   "execution_count": 16,
   "id": "c96c9cf3-eaa7-4750-85bd-1cdf969b4351",
   "metadata": {},
   "outputs": [
    {
     "name": "stdout",
     "output_type": "stream",
     "text": [
      "['fake', 'real']\n"
     ]
    }
   ],
   "source": [
    "class_names = trainDs.class_names\n",
    "print(class_names)"
   ]
  },
  {
   "cell_type": "code",
   "execution_count": 20,
   "id": "0998f3c3-6f69-4422-b763-6e99f08ae398",
   "metadata": {},
   "outputs": [],
   "source": [
    "AUTOTUNE =tf.data.AUTOTUNE\n",
    "trainDs = trainDs.cache().shuffle(1000).prefetch(buffer_size = AUTOTUNE)"
   ]
  },
  {
   "cell_type": "code",
   "execution_count": 21,
   "id": "f576d1a4-d3a9-4220-ba8d-17634d78316c",
   "metadata": {},
   "outputs": [
    {
     "name": "stdout",
     "output_type": "stream",
     "text": [
      "Model: \"sequential\"\n",
      "_________________________________________________________________\n",
      " Layer (type)                Output Shape              Param #   \n",
      "=================================================================\n",
      " flatten (Flatten)           (None, 76800)             0         \n",
      "                                                                 \n",
      " dense (Dense)               (None, 128)               9830528   \n",
      "                                                                 \n",
      " dense_1 (Dense)             (None, 10)                1290      \n",
      "                                                                 \n",
      "=================================================================\n",
      "Total params: 9831818 (37.51 MB)\n",
      "Trainable params: 9831818 (37.51 MB)\n",
      "Non-trainable params: 0 (0.00 Byte)\n",
      "_________________________________________________________________\n"
     ]
    }
   ],
   "source": [
    "model = tf.keras.Sequential([\n",
    "tf.keras.layers.Flatten(input_shape=(160, 160, 3)),\n",
    "tf.keras.layers.Dense(128, activation='relu'),\n",
    "tf.keras.layers.Dense(10)\n",
    "])\n",
    "model.summary()"
   ]
  },
  {
   "cell_type": "code",
   "execution_count": 22,
   "id": "37fcca3f-96e6-4755-b555-824ea408912c",
   "metadata": {},
   "outputs": [],
   "source": [
    "model.compile(optimizer='adam',\n",
    "loss=tf.keras.losses.SparseCategoricalCrossentropy(from_logits=True),\n",
    "metrics=['accuracy'])\n"
   ]
  },
  {
   "cell_type": "code",
   "execution_count": 23,
   "id": "c7482a23-816d-4080-aa18-5730234ed227",
   "metadata": {},
   "outputs": [
    {
     "name": "stdout",
     "output_type": "stream",
     "text": [
      "Epoch 1/10\n",
      "250/250 [==============================] - 60s 76ms/step - loss: 1246.6407 - accuracy: 0.7669 - val_loss: 969.4988 - val_accuracy: 0.6984\n",
      "Epoch 2/10\n",
      "250/250 [==============================] - 11s 45ms/step - loss: 234.6018 - accuracy: 0.8780 - val_loss: 670.2858 - val_accuracy: 0.7212\n",
      "Epoch 3/10\n",
      "250/250 [==============================] - 11s 46ms/step - loss: 209.7675 - accuracy: 0.8938 - val_loss: 88.2876 - val_accuracy: 0.9364\n",
      "Epoch 4/10\n",
      "250/250 [==============================] - 11s 45ms/step - loss: 206.0619 - accuracy: 0.9018 - val_loss: 68.1102 - val_accuracy: 0.9473\n",
      "Epoch 5/10\n",
      "250/250 [==============================] - 11s 45ms/step - loss: 79.3803 - accuracy: 0.9415 - val_loss: 114.0784 - val_accuracy: 0.9190\n",
      "Epoch 6/10\n",
      "250/250 [==============================] - 11s 46ms/step - loss: 64.5770 - accuracy: 0.9524 - val_loss: 53.8578 - val_accuracy: 0.9560\n",
      "Epoch 7/10\n",
      "250/250 [==============================] - 11s 46ms/step - loss: 496.6718 - accuracy: 0.8842 - val_loss: 20.9263 - val_accuracy: 0.9701\n",
      "Epoch 8/10\n",
      "250/250 [==============================] - 11s 45ms/step - loss: 38.5693 - accuracy: 0.9507 - val_loss: 23.1845 - val_accuracy: 0.9620\n",
      "Epoch 9/10\n",
      "250/250 [==============================] - 11s 45ms/step - loss: 87.8300 - accuracy: 0.9351 - val_loss: 791.0563 - val_accuracy: 0.6788\n",
      "Epoch 10/10\n",
      "250/250 [==============================] - 11s 46ms/step - loss: 66.1785 - accuracy: 0.9419 - val_loss: 16.4731 - val_accuracy: 0.9750\n"
     ]
    },
    {
     "data": {
      "text/plain": [
       "<keras.src.callbacks.History at 0x26bfd8560d0>"
      ]
     },
     "execution_count": 23,
     "metadata": {},
     "output_type": "execute_result"
    }
   ],
   "source": [
    "model.fit(trainDs, epochs=10, validation_data=valDss)"
   ]
  },
  {
   "cell_type": "code",
   "execution_count": 24,
   "id": "364d0c92-8e9f-4771-80ab-af2be232dfb2",
   "metadata": {},
   "outputs": [
    {
     "name": "stdout",
     "output_type": "stream",
     "text": [
      "5/5 - 0s - loss: 20.6758 - accuracy: 0.9750 - 234ms/epoch - 47ms/step\n",
      "\n",
      "Test accuracy: 0.9750000238418579\n"
     ]
    }
   ],
   "source": [
    "test_loss, test_acc = model.evaluate(testDs, verbose=2)\n",
    "print('\\nTest accuracy:', test_acc)"
   ]
  },
  {
   "cell_type": "code",
   "execution_count": 25,
   "id": "597df164-4b46-4232-9fea-4dd9f175e213",
   "metadata": {},
   "outputs": [
    {
     "name": "stdout",
     "output_type": "stream",
     "text": [
      "Model: \"sequential\"\n",
      "_________________________________________________________________\n",
      " Layer (type)                Output Shape              Param #   \n",
      "=================================================================\n",
      " flatten (Flatten)           (None, 76800)             0         \n",
      "                                                                 \n",
      " dense (Dense)               (None, 128)               9830528   \n",
      "                                                                 \n",
      " dense_1 (Dense)             (None, 10)                1290      \n",
      "                                                                 \n",
      "=================================================================\n",
      "Total params: 9831818 (37.51 MB)\n",
      "Trainable params: 9831818 (37.51 MB)\n",
      "Non-trainable params: 0 (0.00 Byte)\n",
      "_________________________________________________________________\n"
     ]
    }
   ],
   "source": [
    "model1 = tf.keras.Sequential([\n",
    "tf.keras.layers.Flatten(input_shape=(160, 160, 3)),\n",
    "tf.keras.layers.Dense(64, activation='relu'),\n",
    "tf.keras.layers.Dense(128, activation='relu'),\n",
    "tf.keras.layers.Dense(10)\n",
    "])\n",
    "model.summary()"
   ]
  },
  {
   "cell_type": "code",
   "execution_count": 26,
   "id": "32b17c98-272c-43f8-b7b4-3bd8fb6b3a58",
   "metadata": {},
   "outputs": [],
   "source": [
    "model1.compile(optimizer='adam',\n",
    "loss=tf.keras.losses.SparseCategoricalCrossentropy(from_logits=True),\n",
    "metrics=['accuracy'])"
   ]
  },
  {
   "cell_type": "code",
   "execution_count": 27,
   "id": "8435d3b1-9fdc-436e-ab7a-548b1f18875a",
   "metadata": {},
   "outputs": [
    {
     "name": "stdout",
     "output_type": "stream",
     "text": [
      "Epoch 1/10\n",
      "250/250 [==============================] - 9s 35ms/step - loss: 272.7343 - accuracy: 0.7410 - val_loss: 21.7170 - val_accuracy: 0.8848\n",
      "Epoch 2/10\n",
      "250/250 [==============================] - 6s 26ms/step - loss: 45.3414 - accuracy: 0.8471 - val_loss: 5.5149 - val_accuracy: 0.9413\n",
      "Epoch 3/10\n",
      "250/250 [==============================] - 7s 26ms/step - loss: 34.9851 - accuracy: 0.8700 - val_loss: 14.1081 - val_accuracy: 0.8799\n",
      "Epoch 4/10\n",
      "250/250 [==============================] - 6s 26ms/step - loss: 5.6716 - accuracy: 0.9298 - val_loss: 1.8629 - val_accuracy: 0.9592\n",
      "Epoch 5/10\n",
      "250/250 [==============================] - 7s 26ms/step - loss: 4.1350 - accuracy: 0.9291 - val_loss: 0.3997 - val_accuracy: 0.9707\n",
      "Epoch 6/10\n",
      "250/250 [==============================] - 7s 26ms/step - loss: 1.9969 - accuracy: 0.9358 - val_loss: 0.6789 - val_accuracy: 0.9609\n",
      "Epoch 7/10\n",
      "250/250 [==============================] - 6s 26ms/step - loss: 1.1340 - accuracy: 0.9345 - val_loss: 0.9443 - val_accuracy: 0.9571\n",
      "Epoch 8/10\n",
      "250/250 [==============================] - 6s 26ms/step - loss: 0.6335 - accuracy: 0.9289 - val_loss: 0.3187 - val_accuracy: 0.9359\n",
      "Epoch 9/10\n",
      "250/250 [==============================] - 7s 26ms/step - loss: 1.4330 - accuracy: 0.9050 - val_loss: 1.1493 - val_accuracy: 0.9413\n",
      "Epoch 10/10\n",
      "250/250 [==============================] - 7s 26ms/step - loss: 0.6881 - accuracy: 0.7721 - val_loss: 0.2434 - val_accuracy: 0.9348\n"
     ]
    },
    {
     "data": {
      "text/plain": [
       "<keras.src.callbacks.History at 0x26bfde778d0>"
      ]
     },
     "execution_count": 27,
     "metadata": {},
     "output_type": "execute_result"
    }
   ],
   "source": [
    "model1.fit(trainDs, epochs=10, validation_data=valDss)"
   ]
  },
  {
   "cell_type": "code",
   "execution_count": 28,
   "id": "e1db2f93-3589-4be0-8b98-f3cb761afe19",
   "metadata": {},
   "outputs": [
    {
     "name": "stdout",
     "output_type": "stream",
     "text": [
      "5/5 - 0s - loss: 0.2743 - accuracy: 0.9500 - 209ms/epoch - 42ms/step\n",
      "\n",
      "Test accuracy: 0.949999988079071\n"
     ]
    }
   ],
   "source": [
    "test_loss, test_acc = model1.evaluate(testDs, verbose=2)\n",
    "print('\\nTest accuracy:', test_acc)"
   ]
  },
  {
   "cell_type": "code",
   "execution_count": 38,
   "id": "9d3763c2-34e8-40ae-a5d7-4eb0651489c8",
   "metadata": {},
   "outputs": [
    {
     "name": "stdout",
     "output_type": "stream",
     "text": [
      "Model: \"sequential\"\n",
      "_________________________________________________________________\n",
      " Layer (type)                Output Shape              Param #   \n",
      "=================================================================\n",
      " flatten (Flatten)           (None, 76800)             0         \n",
      "                                                                 \n",
      " dense (Dense)               (None, 128)               9830528   \n",
      "                                                                 \n",
      " dense_1 (Dense)             (None, 10)                1290      \n",
      "                                                                 \n",
      "=================================================================\n",
      "Total params: 9831818 (37.51 MB)\n",
      "Trainable params: 9831818 (37.51 MB)\n",
      "Non-trainable params: 0 (0.00 Byte)\n",
      "_________________________________________________________________\n"
     ]
    }
   ],
   "source": [
    "model2 = tf.keras.Sequential([\n",
    "tf.keras.layers.Flatten(input_shape=(160, 160, 3)),\n",
    "tf.keras.layers.Dense(128, activation='relu'),\n",
    "tf.keras.layers.Dense(10)\n",
    "])\n",
    "model.summary()"
   ]
  },
  {
   "cell_type": "code",
   "execution_count": 39,
   "id": "00947e21-3079-4457-9e25-49cc0e26b9d1",
   "metadata": {},
   "outputs": [],
   "source": [
    "optimizer = keras.optimizers.Adam(learning_rate =0.001)"
   ]
  },
  {
   "cell_type": "code",
   "execution_count": 40,
   "id": "103bc8bf-3692-46c4-baf7-68e7047de5d3",
   "metadata": {},
   "outputs": [],
   "source": [
    "model2.compile(optimizer= optimizer,\n",
    "loss=tf.keras.losses.SparseCategoricalCrossentropy(from_logits=True),\n",
    "metrics=['accuracy'])"
   ]
  },
  {
   "cell_type": "code",
   "execution_count": 41,
   "id": "3d2b5678-8de4-4595-8588-4df4d4e2c6e4",
   "metadata": {},
   "outputs": [
    {
     "name": "stdout",
     "output_type": "stream",
     "text": [
      "Epoch 1/10\n",
      "250/250 [==============================] - 11s 45ms/step - loss: 1143.9730 - accuracy: 0.7616 - val_loss: 47.0643 - val_accuracy: 0.9299\n",
      "Epoch 2/10\n",
      "250/250 [==============================] - 11s 45ms/step - loss: 229.9203 - accuracy: 0.8712 - val_loss: 1385.8677 - val_accuracy: 0.6261\n",
      "Epoch 3/10\n",
      "250/250 [==============================] - 11s 46ms/step - loss: 154.7704 - accuracy: 0.9095 - val_loss: 41.2225 - val_accuracy: 0.9636\n",
      "Epoch 4/10\n",
      "250/250 [==============================] - 11s 46ms/step - loss: 134.1079 - accuracy: 0.9230 - val_loss: 40.3830 - val_accuracy: 0.9500\n",
      "Epoch 5/10\n",
      "250/250 [==============================] - 12s 46ms/step - loss: 72.3399 - accuracy: 0.9455 - val_loss: 37.7816 - val_accuracy: 0.9565\n",
      "Epoch 6/10\n",
      "250/250 [==============================] - 11s 46ms/step - loss: 80.7969 - accuracy: 0.9405 - val_loss: 940.7485 - val_accuracy: 0.7462\n",
      "Epoch 7/10\n",
      "250/250 [==============================] - 11s 46ms/step - loss: 122.9052 - accuracy: 0.9275 - val_loss: 33.9711 - val_accuracy: 0.9620\n",
      "Epoch 8/10\n",
      "250/250 [==============================] - 11s 46ms/step - loss: 50.6189 - accuracy: 0.9546 - val_loss: 53.9769 - val_accuracy: 0.9467\n",
      "Epoch 9/10\n",
      "250/250 [==============================] - 11s 46ms/step - loss: 95.6150 - accuracy: 0.9350 - val_loss: 36.6129 - val_accuracy: 0.9663\n",
      "Epoch 10/10\n",
      "250/250 [==============================] - 11s 46ms/step - loss: 42.1433 - accuracy: 0.9604 - val_loss: 45.3350 - val_accuracy: 0.9511\n"
     ]
    },
    {
     "data": {
      "text/plain": [
       "<keras.src.callbacks.History at 0x26bfe9ad450>"
      ]
     },
     "execution_count": 41,
     "metadata": {},
     "output_type": "execute_result"
    }
   ],
   "source": [
    "model2.fit(trainDs, epochs=10, validation_data=valDss)"
   ]
  },
  {
   "cell_type": "code",
   "execution_count": 42,
   "id": "c9ac8935-db15-4dd5-aff2-ae988b1e6602",
   "metadata": {},
   "outputs": [
    {
     "name": "stdout",
     "output_type": "stream",
     "text": [
      "5/5 - 1s - loss: 57.8943 - accuracy: 0.9312 - 682ms/epoch - 136ms/step\n",
      "\n",
      "Test accuracy: 0.9312499761581421\n"
     ]
    }
   ],
   "source": [
    "test_loss, test_acc = model2.evaluate(testDs, verbose=2)\n",
    "print('\\nTest accuracy:', test_acc)"
   ]
  },
  {
   "cell_type": "code",
   "execution_count": 44,
   "id": "2e7716f0-a071-4ae1-bba9-51c8c667ace6",
   "metadata": {},
   "outputs": [
    {
     "name": "stdout",
     "output_type": "stream",
     "text": [
      "Epoch 1/10\n",
      "250/250 [==============================] - 11s 45ms/step - loss: 58.1845 - accuracy: 0.9496 - val_loss: 8.9315 - val_accuracy: 0.9728\n",
      "Epoch 2/10\n",
      "250/250 [==============================] - 11s 45ms/step - loss: 29.5615 - accuracy: 0.9528 - val_loss: 14.0204 - val_accuracy: 0.9592\n",
      "Epoch 3/10\n",
      "250/250 [==============================] - 11s 46ms/step - loss: 21.2485 - accuracy: 0.9565 - val_loss: 7.6081 - val_accuracy: 0.9707\n",
      "Epoch 4/10\n",
      "250/250 [==============================] - 11s 46ms/step - loss: 18.7054 - accuracy: 0.9444 - val_loss: 3.8275 - val_accuracy: 0.9745\n",
      "Epoch 5/10\n",
      "250/250 [==============================] - 11s 45ms/step - loss: 2.0284 - accuracy: 0.9771 - val_loss: 13.1019 - val_accuracy: 0.9250\n",
      "Epoch 6/10\n",
      "250/250 [==============================] - 11s 46ms/step - loss: 1.3685 - accuracy: 0.9797 - val_loss: 1.2337 - val_accuracy: 0.9799\n",
      "Epoch 7/10\n",
      "250/250 [==============================] - 11s 45ms/step - loss: 0.9778 - accuracy: 0.9808 - val_loss: 1.8857 - val_accuracy: 0.9587\n",
      "Epoch 8/10\n",
      "250/250 [==============================] - 11s 46ms/step - loss: 0.6964 - accuracy: 0.9789 - val_loss: 2.7471 - val_accuracy: 0.9337\n",
      "Epoch 9/10\n",
      "250/250 [==============================] - 11s 46ms/step - loss: 0.3291 - accuracy: 0.9819 - val_loss: 0.6835 - val_accuracy: 0.9859\n",
      "Epoch 10/10\n",
      "250/250 [==============================] - 11s 46ms/step - loss: 0.1777 - accuracy: 0.9887 - val_loss: 0.5550 - val_accuracy: 0.9837\n",
      "5/5 - 0s - loss: 0.1186 - accuracy: 0.9875 - 253ms/epoch - 51ms/step\n",
      "\n",
      "Test accuracy: 0.987500011920929\n"
     ]
    }
   ],
   "source": [
    "optimizer = keras.optimizers.Adam(learning_rate =0.001)\n",
    "\n",
    "model.compile(optimizer= optimizer,\n",
    "loss=tf.keras.losses.SparseCategoricalCrossentropy(from_logits=True),\n",
    "metrics=['accuracy'])\n",
    "\n",
    "model.fit(trainDs, epochs=10, validation_data=valDss)\n",
    "\n",
    "test_loss, test_acc = model.evaluate(testDs, verbose=2)\n",
    "print('\\nTest accuracy:', test_acc)"
   ]
  },
  {
   "cell_type": "code",
   "execution_count": 45,
   "id": "b8ca5b47-9041-4b2b-a4d9-2d57fdee2561",
   "metadata": {},
   "outputs": [
    {
     "name": "stdout",
     "output_type": "stream",
     "text": [
      "Epoch 1/10\n",
      "250/250 [==============================] - 12s 47ms/step - loss: 0.7672 - accuracy: 0.9846 - val_loss: 0.3373 - val_accuracy: 0.9875\n",
      "Epoch 2/10\n",
      "250/250 [==============================] - 12s 47ms/step - loss: 0.0475 - accuracy: 0.9927 - val_loss: 0.3712 - val_accuracy: 0.9859\n",
      "Epoch 3/10\n",
      "250/250 [==============================] - 12s 48ms/step - loss: 0.0495 - accuracy: 0.9935 - val_loss: 0.2949 - val_accuracy: 0.9848\n",
      "Epoch 4/10\n",
      "250/250 [==============================] - 12s 48ms/step - loss: 0.1006 - accuracy: 0.9898 - val_loss: 0.3850 - val_accuracy: 0.9826\n",
      "Epoch 5/10\n",
      "250/250 [==============================] - 12s 48ms/step - loss: 0.2980 - accuracy: 0.9826 - val_loss: 0.3459 - val_accuracy: 0.9826\n",
      "Epoch 6/10\n",
      "250/250 [==============================] - 12s 48ms/step - loss: 0.0367 - accuracy: 0.9948 - val_loss: 0.2415 - val_accuracy: 0.9848\n",
      "Epoch 7/10\n",
      "250/250 [==============================] - 12s 48ms/step - loss: 0.0871 - accuracy: 0.9887 - val_loss: 0.2673 - val_accuracy: 0.9853\n",
      "Epoch 8/10\n",
      "250/250 [==============================] - 12s 48ms/step - loss: 0.0924 - accuracy: 0.9889 - val_loss: 0.1964 - val_accuracy: 0.9837\n",
      "Epoch 9/10\n",
      "250/250 [==============================] - 12s 49ms/step - loss: 0.0728 - accuracy: 0.9894 - val_loss: 0.3072 - val_accuracy: 0.9755\n",
      "Epoch 10/10\n",
      "250/250 [==============================] - 12s 49ms/step - loss: 0.0196 - accuracy: 0.9961 - val_loss: 0.1463 - val_accuracy: 0.9864\n",
      "5/5 - 0s - loss: 0.0285 - accuracy: 0.9937 - 270ms/epoch - 54ms/step\n",
      "\n",
      "Test accuracy: 0.9937499761581421\n"
     ]
    }
   ],
   "source": [
    "\n",
    "optimizer = keras.optimizers.Adamax(learning_rate =0.001)\n",
    "\n",
    "model.compile(optimizer= optimizer,\n",
    "loss=tf.keras.losses.SparseCategoricalCrossentropy(from_logits=True),\n",
    "metrics=['accuracy'])\n",
    "\n",
    "model.fit(trainDs, epochs=10, validation_data=valDss)\n",
    "\n",
    "test_loss, test_acc = model.evaluate(testDs, verbose=2)\n",
    "print('\\nTest accuracy:', test_acc)"
   ]
  },
  {
   "cell_type": "code",
   "execution_count": 52,
   "id": "a4460708-e740-4bed-b98c-f9daba4a0f72",
   "metadata": {},
   "outputs": [
    {
     "name": "stdout",
     "output_type": "stream",
     "text": [
      "Epoch 1/10\n"
     ]
    },
    {
     "name": "stderr",
     "output_type": "stream",
     "text": [
      "C:\\Program Files\\Python311\\Lib\\site-packages\\tensorflow\\python\\util\\dispatch.py:1176: SyntaxWarning: In loss categorical_crossentropy, expected y_pred.shape to be (batch_size, num_classes) with num_classes > 1. Received: y_pred.shape=(None, 1). Consider using 'binary_crossentropy' if you only have 2 classes.\n",
      "  return dispatch_target(*args, **kwargs)\n"
     ]
    },
    {
     "name": "stdout",
     "output_type": "stream",
     "text": [
      "250/250 [==============================] - 17s 68ms/step - loss: 0.0000e+00 - accuracy: 0.5445 - val_loss: 0.0000e+00 - val_accuracy: 0.5516\n",
      "Epoch 2/10\n",
      "250/250 [==============================] - 15s 60ms/step - loss: 0.0000e+00 - accuracy: 0.5445 - val_loss: 0.0000e+00 - val_accuracy: 0.5565\n",
      "Epoch 3/10\n",
      "250/250 [==============================] - 15s 59ms/step - loss: 0.0000e+00 - accuracy: 0.5445 - val_loss: 0.0000e+00 - val_accuracy: 0.5598\n",
      "Epoch 4/10\n",
      "250/250 [==============================] - 15s 62ms/step - loss: 0.0000e+00 - accuracy: 0.5445 - val_loss: 0.0000e+00 - val_accuracy: 0.5495\n",
      "Epoch 5/10\n",
      "250/250 [==============================] - 15s 61ms/step - loss: 0.0000e+00 - accuracy: 0.5445 - val_loss: 0.0000e+00 - val_accuracy: 0.5549\n",
      "Epoch 6/10\n",
      "250/250 [==============================] - 15s 61ms/step - loss: 0.0000e+00 - accuracy: 0.5445 - val_loss: 0.0000e+00 - val_accuracy: 0.5571\n",
      "Epoch 7/10\n",
      "250/250 [==============================] - 15s 62ms/step - loss: 0.0000e+00 - accuracy: 0.5445 - val_loss: 0.0000e+00 - val_accuracy: 0.5543\n",
      "Epoch 8/10\n",
      "250/250 [==============================] - 15s 62ms/step - loss: 0.0000e+00 - accuracy: 0.5445 - val_loss: 0.0000e+00 - val_accuracy: 0.5560\n",
      "Epoch 9/10\n",
      "250/250 [==============================] - 15s 62ms/step - loss: 0.0000e+00 - accuracy: 0.5445 - val_loss: 0.0000e+00 - val_accuracy: 0.5495\n",
      "Epoch 10/10\n",
      "250/250 [==============================] - 16s 63ms/step - loss: 0.0000e+00 - accuracy: 0.5445 - val_loss: 0.0000e+00 - val_accuracy: 0.5511\n",
      "5/5 - 0s - loss: 0.0000e+00 - accuracy: 0.4750 - 302ms/epoch - 60ms/step\n",
      "\n",
      "Test accuracy: 0.4749999940395355\n"
     ]
    }
   ],
   "source": [
    "optimizer = keras.optimizers.Adamax(learning_rate =0.001)\n",
    "model = tf.keras.Sequential([\n",
    "tf.keras.layers.Flatten(input_shape=(160, 160, 3)),\n",
    "tf.keras.layers.Dense(128, activation='relu'),\n",
    "tf.keras.layers.Dense(1)\n",
    "])\n",
    "\n",
    "model.compile(optimizer= optimizer,\n",
    "loss=tf.keras.losses.CategoricalCrossentropy(from_logits=True),\n",
    "metrics=['accuracy'])\n",
    "\n",
    "model.fit(trainDs, epochs=10, validation_data=valDss)\n",
    "\n",
    "test_loss, test_acc = model.evaluate(testDs, verbose=2)\n",
    "print('\\nTest accuracy:', test_acc)"
   ]
  },
  {
   "cell_type": "code",
   "execution_count": 53,
   "id": "59d39d09-9820-474f-a9af-389d2745abd6",
   "metadata": {},
   "outputs": [],
   "source": [
    "cnnmodel = tf.keras.Sequential()\n",
    "cnnmodel.add(layers.Conv2D(32, (3, 3), activation='relu', input_shape=(160, 160, 3)))\n",
    "cnnmodel.add(layers.MaxPooling2D((2, 2)))\n",
    "cnnmodel.add(layers.Conv2D(64, (3, 3), activation='relu'))\n",
    "cnnmodel.add(layers.MaxPooling2D((2, 2)))\n",
    "cnnmodel.add(layers.Conv2D(64, (3, 3), activation='relu'))\n",
    "cnnmodel.add(layers.Flatten())\n",
    "cnnmodel.add(layers.Dense(64, activation='relu'))\n",
    "cnnmodel.add(layers.Dense(2))\n",
    "\n"
   ]
  },
  {
   "cell_type": "code",
   "execution_count": 56,
   "id": "00ced6af-ebaa-4f49-a959-6bf242cdc0a8",
   "metadata": {},
   "outputs": [
    {
     "name": "stdout",
     "output_type": "stream",
     "text": [
      "Epoch 1/10\n",
      "250/250 [==============================] - 70s 277ms/step - loss: 0.7582 - accuracy: 0.4551 - val_loss: 0.7434 - val_accuracy: 0.4462\n",
      "Epoch 2/10\n",
      "250/250 [==============================] - 72s 286ms/step - loss: 0.7568 - accuracy: 0.4555 - val_loss: 0.7351 - val_accuracy: 0.4429\n",
      "Epoch 3/10\n",
      "250/250 [==============================] - 74s 295ms/step - loss: 0.7568 - accuracy: 0.4555 - val_loss: 0.7351 - val_accuracy: 0.4435\n",
      "Epoch 4/10\n",
      "250/250 [==============================] - 73s 293ms/step - loss: 0.7568 - accuracy: 0.4555 - val_loss: 0.7434 - val_accuracy: 0.4413\n",
      "Epoch 5/10\n",
      "250/250 [==============================] - 73s 292ms/step - loss: 0.7568 - accuracy: 0.4555 - val_loss: 0.7434 - val_accuracy: 0.4457\n",
      "Epoch 6/10\n",
      "250/250 [==============================] - 73s 291ms/step - loss: 0.7568 - accuracy: 0.4555 - val_loss: 0.7351 - val_accuracy: 0.4435\n",
      "Epoch 7/10\n",
      "250/250 [==============================] - 73s 292ms/step - loss: 0.7568 - accuracy: 0.4555 - val_loss: 0.7351 - val_accuracy: 0.4446\n",
      "Epoch 8/10\n",
      "250/250 [==============================] - 83s 333ms/step - loss: 0.7568 - accuracy: 0.4555 - val_loss: 0.7351 - val_accuracy: 0.4511\n",
      "Epoch 9/10\n",
      "250/250 [==============================] - 73s 292ms/step - loss: 0.7568 - accuracy: 0.4555 - val_loss: 0.7434 - val_accuracy: 0.4440\n",
      "Epoch 10/10\n",
      "250/250 [==============================] - 73s 293ms/step - loss: 0.7568 - accuracy: 0.4555 - val_loss: 0.7434 - val_accuracy: 0.4424\n",
      "5/5 - 1s - loss: 0.6931 - accuracy: 0.5125 - 564ms/epoch - 113ms/step\n",
      "\n",
      "Test accuracy: 0.512499988079071\n"
     ]
    }
   ],
   "source": [
    "# Create the optimizer\n",
    "optimizer = tf.keras.optimizers.RMSprop(momentum=0.9)\n",
    "optimizer.build(cnnmodel.trainable_variables)  # Build the optimizer\n",
    "\n",
    "# Compile the model\n",
    "cnnmodel.compile(optimizer=optimizer,\n",
    "                 loss='sparse_categorical_crossentropy',\n",
    "                 metrics=['accuracy'])\n",
    "\n",
    "# Train the model\n",
    "cnnmodel.fit(trainDs, epochs=10, validation_data=valDss)\n",
    "\n",
    "# Evaluate on test data\n",
    "test_loss, test_acc = cnnmodel.evaluate(testDs, verbose=2)\n",
    "print('\\nTest accuracy:', test_acc)\n"
   ]
  },
  {
   "cell_type": "code",
   "execution_count": 59,
   "id": "24a1da79-2066-4843-8b3b-5573c66808ce",
   "metadata": {},
   "outputs": [
    {
     "name": "stdout",
     "output_type": "stream",
     "text": [
      "Defaulting to user installation because normal site-packages is not writeable\n",
      "Collecting tf-explain\n",
      "  Downloading tf_explain-0.3.1-py3-none-any.whl (43 kB)\n",
      "     ---------------------------------------- 0.0/43.6 kB ? eta -:--:--\n",
      "     ---------------------------------------- 43.6/43.6 kB 2.2 MB/s eta 0:00:00\n",
      "Installing collected packages: tf-explain\n",
      "Successfully installed tf-explain-0.3.1\n",
      "Note: you may need to restart the kernel to use updated packages.\n"
     ]
    },
    {
     "name": "stderr",
     "output_type": "stream",
     "text": [
      "\n",
      "[notice] A new release of pip is available: 23.3.1 -> 24.0\n",
      "[notice] To update, run: python.exe -m pip install --upgrade pip\n"
     ]
    }
   ],
   "source": [
    "pip install tf-explain"
   ]
  },
  {
   "cell_type": "code",
   "execution_count": 60,
   "id": "2ac0f2c5-322e-48cc-86b7-c46a6a87a265",
   "metadata": {},
   "outputs": [
    {
     "ename": "ModuleNotFoundError",
     "evalue": "No module named 'tf_explain'",
     "output_type": "error",
     "traceback": [
      "\u001b[1;31m---------------------------------------------------------------------------\u001b[0m",
      "\u001b[1;31mModuleNotFoundError\u001b[0m                       Traceback (most recent call last)",
      "Cell \u001b[1;32mIn[60], line 1\u001b[0m\n\u001b[1;32m----> 1\u001b[0m \u001b[38;5;28;01mfrom\u001b[39;00m \u001b[38;5;21;01mtf_explain\u001b[39;00m\u001b[38;5;21;01m.\u001b[39;00m\u001b[38;5;21;01mcore\u001b[39;00m\u001b[38;5;21;01m.\u001b[39;00m\u001b[38;5;21;01mgrad_cam\u001b[39;00m \u001b[38;5;28;01mimport\u001b[39;00m GradCAM\n\u001b[0;32m      3\u001b[0m IMAGE_PATH \u001b[38;5;241m=\u001b[39m \u001b[38;5;124m\"\u001b[39m\u001b[38;5;124mD:\u001b[39m\u001b[38;5;124m\\\u001b[39m\u001b[38;5;124mmc-fakes-smaller\u001b[39m\u001b[38;5;124m\\\u001b[39m\u001b[38;5;124mmc-fakes-smaller\u001b[39m\u001b[38;5;130;01m\\r\u001b[39;00m\u001b[38;5;124meal\u001b[39m\u001b[38;5;124m\\\u001b[39m\u001b[38;5;124mcm-21.jpg\u001b[39m\u001b[38;5;124m\"\u001b[39m\n\u001b[0;32m      5\u001b[0m \u001b[38;5;28;01mif\u001b[39;00m \u001b[38;5;18m__name__\u001b[39m \u001b[38;5;241m==\u001b[39m \u001b[38;5;124m\"\u001b[39m\u001b[38;5;124m__main__\u001b[39m\u001b[38;5;124m\"\u001b[39m:\n",
      "\u001b[1;31mModuleNotFoundError\u001b[0m: No module named 'tf_explain'"
     ]
    }
   ],
   "source": [
    "from tf_explain.core.grad_cam import GradCAM\n",
    "\n",
    "IMAGE_PATH = \"D:\\mc-fakes-smaller\\mc-fakes-smaller\\real\\cm-21.jpg\"\n",
    "\n",
    "if __name__ == \"__main__\":\n",
    "    model = tf.keras.applications.vgg16.VGG16(weights=\"imagenet\", include_top=True)\n",
    "\n",
    "    img = tf.keras.preprocessing.image.load_img(IMAGE_PATH, target_size=(224, 224))\n",
    "    img = tf.keras.preprocessing.image.img_to_array(img)\n",
    "\n",
    "    model.summary()\n",
    "    data = ([img], None)\n",
    "\n",
    "    mine_craft_index = 281\n",
    "    explainer = GradCAM()\n",
    "    # Compute GradCAM on VGG16\n",
    "    grid = explainer.explain(\n",
    "        data, model, class_index= mine_craft_index, layer_name=\"block5_conv3\"\n",
    "    )\n",
    "    explainer.save(grid, \".\", \"grad_cam.png\")"
   ]
  },
  {
   "cell_type": "code",
   "execution_count": null,
   "id": "d1c1a555-3039-4635-9b6e-ecc50eeae4e7",
   "metadata": {},
   "outputs": [],
   "source": []
  }
 ],
 "metadata": {
  "kernelspec": {
   "display_name": "Python 3 (ipykernel)",
   "language": "python",
   "name": "python3"
  },
  "language_info": {
   "codemirror_mode": {
    "name": "ipython",
    "version": 3
   },
   "file_extension": ".py",
   "mimetype": "text/x-python",
   "name": "python",
   "nbconvert_exporter": "python",
   "pygments_lexer": "ipython3",
   "version": "3.11.3"
  }
 },
 "nbformat": 4,
 "nbformat_minor": 5
}
